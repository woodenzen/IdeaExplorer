{
 "cells": [
  {
   "cell_type": "markdown",
   "id": "729230ea-012d-4801-8e7d-e9a07c041508",
   "metadata": {},
   "source": [
    "Idea Explorer in a notebook."
   ]
  },
  {
   "cell_type": "code",
   "execution_count": 4,
   "id": "8377f570",
   "metadata": {},
   "outputs": [],
   "source": [
    "#!/usr/local/bin/python3.9 \n",
    "\n",
    "import os\n",
    "import re\n",
    "import time\n",
    "import glob\n",
    "import pandas as pd\n",
    "from datetime import datetime\n",
    "from plistlib import load\n",
    "from urllib.parse import urlparse\n",
    "from collections import Counter\n",
    "from collections import defaultdict"
   ]
  },
  {
   "cell_type": "code",
   "execution_count": 5,
   "id": "eba698f3",
   "metadata": {},
   "outputs": [],
   "source": [
    "def TheArchivePath():\n",
    "    #  Variables that ultimately revel The Archive's plist file.\n",
    "        bundle_id = \"de.zettelkasten.TheArchive\"\n",
    "        team_id = \"FRMDA3XRGC\"\n",
    "        fileName = os.path.expanduser(\n",
    "            \"~/Library/Group Containers/{0}.{1}.prefs/Library/Preferences/{0}.{1}.prefs.plist\".format(team_id, bundle_id))\n",
    "        with open(fileName, 'rb') as fp:\n",
    "            pl = load(fp) # load is a special function for use with a plist\n",
    "            path = urlparse(pl['archiveURL']) # 'archiveURL' is the key that pairs with the zk path\n",
    "        return (path.path) # path is the part of the path that is formatted for use as a path.\n",
    "\n",
    "#####\n",
    "# Function for outgoing links with note titles\n",
    "#####\n",
    "def explorer(zettel):\n",
    "    for key, value in zk_info.items():\n",
    "        if value[\"ntitle\"] == zettel:\n",
    "            for i in value[\"outbound\"]:\n",
    "                if zk_info.get(i):\n",
    "                    print(i, zk_info[i][\"ntitle\"],\"\\n\", zk_info[i][\"age\"],\"\\n\", zk_info[i][\"Last Modified\"],\"\\n\", zk_info[i][\"WC\"], \"words\")\n",
    "                    print(\"This is an outbound link.\")\n",
    "                    print(zk_info[i][\"tags\"])\n",
    "                else:\n",
    "                    print(i, \"This is an intralink.\")\n",
    "\n",
    "#####\n",
    "# Function for tag cloud\n",
    "#####\n",
    "def tag_cloud(zettel):  # sourcery skip: do-not-use-bare-except\n",
    "    \"\"\"\n",
    "    This function returns a list of tags sorted by the prevalence of their occurrence.\n",
    "\n",
    "    :param zettel: A string representing a specific record in the `zk_info` dictionary.\n",
    "    :return: A list of related records to the `zettel`.\n",
    "    \"\"\"\n",
    "    try: # Try to execute the following code block. Some records have empty 'tags' field, so this will throw an error.\n",
    "        outbound_records = [zk_info[id] for id in zk_info[zettel]['outbound'] if 'outbound' in zk_info[id]]\n",
    "        tag_count = defaultdict(int)\n",
    "        for record in outbound_records:\n",
    "            for tag_list in record['tags']:\n",
    "                for tag in tag_list:\n",
    "                    tag_count[tag] += 1\n",
    "        sorted_tag_count = sorted(tag_count.items(), key=lambda x: x[1], reverse=True)\n",
    "        for tag, count in sorted_tag_count:\n",
    "            print(f\"{tag} {count}\")\n",
    "            # return tag, count\n",
    "    except: \n",
    "        # Do nothing, just continue execution\n",
    "        pass\n",
    "        \n",
    "#####\n",
    "# Function for inbound links uuids\n",
    "#####        \n",
    "def inbound_uuid(zettel):\n",
    "    # sourcery skip: for-append-to-extend, inline-immediately-returned-variable, list-comprehension\n",
    "    \"\"\"\n",
    "    This function returns a list of records related to the `zettel` by checking if the `zettel` is in the 'outbound' field of each record in the `zk_info` dictionary.\n",
    "\n",
    "    :param zettel: A string representing a specific record in the `zk_info` dictionary.\n",
    "    :return: A list of related records to the `zettel`.\n",
    "    \"\"\"\n",
    "    related_records = []\n",
    "    for key, value in zk_info.items():\n",
    "        # If the record has an 'outbound' field and the `zettel` is in it, and the key is not 'outbound', append the key to the list of related records\n",
    "        if 'outbound' in value and zettel in value['outbound'] and key != 'outbound':\n",
    "            related_records.append(key)\n",
    "    return related_records\n",
    "\n",
    "#####\n",
    "# Function for labeling links out, in, bidirectional\n",
    "#####  \n",
    "def label_links(outbound, inbound):\n",
    "    # This function returns a sorted list of links, to and from the target zettel, with their directionality.\n",
    "    combined = set(outbound + inbound)\n",
    "    # set() removes duplicates\n",
    "    direction = []\n",
    "    for value in combined:\n",
    "        if value == zettel:\n",
    "            direction.append(f\"{value} Originator\")\n",
    "        elif value in outbound and value in inbound:\n",
    "            direction.append(f\"{value} Bilateral\")   \n",
    "        elif value in outbound:\n",
    "            direction.append(f\"{value} Outbound\")\n",
    "        elif value in inbound:\n",
    "            direction.append(f\"{value} Inbound\")\n",
    "\n",
    "    direction.sort(key=lambda x: x.split(\" \")[0], reverse=True)\n",
    "    # sort by the first part of the string, which is the UUID, making the list sort with newest dates first\n",
    "    return direction\n",
    "\n",
    "#####\n",
    "# Function for extracting days ago from last modified date\n",
    "##### \n",
    "def extract_days_ago(s):\n",
    "    pattern = r'(\\d+) days ago'\n",
    "    match = re.search(pattern, s)\n",
    "    if match:\n",
    "        return int(match.group(1))\n",
    "    else:\n",
    "        return 0  # or some default value if the pattern is not found"
   ]
  },
  {
   "cell_type": "code",
   "execution_count": 6,
   "id": "3f81e80b",
   "metadata": {},
   "outputs": [
    {
     "name": "stdout",
     "output_type": "stream",
     "text": [
      "The Archive Path is:  /Users/will/Dropbox/zettelkasten/\n"
     ]
    }
   ],
   "source": [
    "print (\"The Archive Path is: \", TheArchivePath())"
   ]
  },
  {
   "cell_type": "code",
   "execution_count": 7,
   "id": "6cedbfcf",
   "metadata": {},
   "outputs": [
    {
     "ename": "NameError",
     "evalue": "name 'zk_info' is not defined",
     "output_type": "error",
     "traceback": [
      "\u001b[0;31m---------------------------------------------------------------------------\u001b[0m",
      "\u001b[0;31mNameError\u001b[0m                                 Traceback (most recent call last)",
      "Cell \u001b[0;32mIn[7], line 1\u001b[0m\n\u001b[0;32m----> 1\u001b[0m \u001b[39mprint\u001b[39m (explorer(\u001b[39m\"\u001b[39;49m\u001b[39m202105061603\u001b[39;49m\u001b[39m\"\u001b[39;49m))\n",
      "Cell \u001b[0;32mIn[5], line 16\u001b[0m, in \u001b[0;36mexplorer\u001b[0;34m(zettel)\u001b[0m\n\u001b[1;32m     15\u001b[0m \u001b[39mdef\u001b[39;00m \u001b[39mexplorer\u001b[39m(zettel):\n\u001b[0;32m---> 16\u001b[0m     \u001b[39mfor\u001b[39;00m key, value \u001b[39min\u001b[39;00m zk_info\u001b[39m.\u001b[39mitems():\n\u001b[1;32m     17\u001b[0m         \u001b[39mif\u001b[39;00m value[\u001b[39m\"\u001b[39m\u001b[39mntitle\u001b[39m\u001b[39m\"\u001b[39m] \u001b[39m==\u001b[39m zettel:\n\u001b[1;32m     18\u001b[0m             \u001b[39mfor\u001b[39;00m i \u001b[39min\u001b[39;00m value[\u001b[39m\"\u001b[39m\u001b[39moutbound\u001b[39m\u001b[39m\"\u001b[39m]:\n",
      "\u001b[0;31mNameError\u001b[0m: name 'zk_info' is not defined"
     ]
    }
   ],
   "source": [
    "print (explorer(\"202105061603\"))"
   ]
  }
 ],
 "metadata": {
  "kernelspec": {
   "display_name": "Python 3 (ipykernel)",
   "language": "python",
   "name": "python3"
  },
  "language_info": {
   "codemirror_mode": {
    "name": "ipython",
    "version": 3
   },
   "file_extension": ".py",
   "mimetype": "text/x-python",
   "name": "python",
   "nbconvert_exporter": "python",
   "pygments_lexer": "ipython3",
   "version": "3.9.6"
  }
 },
 "nbformat": 4,
 "nbformat_minor": 5
}
